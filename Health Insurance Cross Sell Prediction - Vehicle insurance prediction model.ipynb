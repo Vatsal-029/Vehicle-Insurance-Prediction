{
 "cells": [
  {
   "cell_type": "markdown",
   "metadata": {},
   "source": [
    "## Context\n",
    "Our client is an Insurance company that has provided Health Insurance to its customers now they need your help in building a model to predict whether the policyholders (customers) from past year will also be interested in Vehicle Insurance provided by the company.\n",
    "\n",
    "An insurance policy is an arrangement by which a company undertakes to provide a guarantee of compensation for specified loss, damage, illness, or death in return for the payment of a specified premium. A premium is a sum of money that the customer needs to pay regularly to an insurance company for this guarantee.\n",
    "\n",
    "For example, you may pay a premium of Rs. 5000 each year for a health insurance cover of Rs. 200,000/- so that if, God forbid, you fall ill and need to be hospitalised in that year, the insurance provider company will bear the cost of hospitalisation etc. for upto Rs. 200,000. Now if you are wondering how can company bear such high hospitalisation cost when it charges a premium of only Rs. 5000/-, that is where the concept of probabilities comes in picture. For example, like you, there may be 100 customers who would be paying a premium of Rs. 5000 every year, but only a few of them (say 2-3) would get hospitalised that year and not everyone. This way everyone shares the risk of everyone else.\n",
    "\n",
    "Just like medical insurance, there is vehicle insurance where every year customer needs to pay a premium of certain amount to insurance provider company so that in case of unfortunate accident by the vehicle, the insurance provider company will provide a compensation (called ‘sum assured’) to the customer.\n",
    "\n",
    "Building a model to predict whether a customer would be interested in Vehicle Insurance is extremely helpful for the company because it can then accordingly plan its communication strategy to reach out to those customers and optimise its business model and revenue.\n",
    "\n",
    "Now, in order to predict, whether the customer would be interested in Vehicle insurance, you have information about demographics (gender, age, region code type), Vehicles (Vehicle Age, Damage), Policy (Premium, sourcing channel) etc.\n",
    "\n",
    "## Data Description\n",
    "\n",
    "Variable  ||\tDefinition\n",
    "#### id:\n",
    "Unique ID for the customer\n",
    "#### Gender:\n",
    "Gender of the customer\n",
    "#### Age:\n",
    "Age of the customer\n",
    "#### Driving_License:\n",
    "0 : Customer does not have DL, 1 : Customer already has DL\n",
    "#### Region_Code:\n",
    "Unique code for the region of the customer\n",
    "#### Previously_Insured:\n",
    "1 : Customer already has Vehicle Insurance, 0 : Customer doesn't have Vehicle Insurance\n",
    "#### Vehicle_Age:\n",
    "Age of the Vehicle\n",
    "#### Vehicle_Damage:\n",
    "1 : Customer got his/her vehicle damaged in the past. 0 : Customer didn't get his/her vehicle damaged in the past.\n",
    "#### Annual_Premium:\n",
    "The amount customer needs to pay as premium in the year\n",
    "#### PolicySalesChannel:\n",
    "Anonymized Code for the channel of outreaching to the customer ie. Different Agents, Over Mail, Over Phone, In Person, etc.\n",
    "#### Vintage:\n",
    "Number of Days, Customer has been associated with the company\n",
    "#### Response:\n",
    "1 : Customer is interested, 0 : Customer is not interested"
   ]
  },
  {
   "cell_type": "code",
   "execution_count": 1,
   "metadata": {},
   "outputs": [],
   "source": [
    "import pandas as pd\n",
    "import numpy as np\n",
    "import matplotlib.pyplot as plt\n",
    "import seaborn as sns\n",
    "from tabulate import tabulate\n",
    "import warnings\n",
    "warnings.filterwarnings('ignore')"
   ]
  },
  {
   "cell_type": "code",
   "execution_count": 2,
   "metadata": {},
   "outputs": [],
   "source": [
    "main_data = pd.read_csv(r'C:\\Users\\Vatsal\\Python Projects\\Datasets\\Health Insurance Cross Sell Prediction.csv')\n",
    "## Importing dataset from machine"
   ]
  },
  {
   "cell_type": "code",
   "execution_count": 3,
   "metadata": {},
   "outputs": [
    {
     "name": "stdout",
     "output_type": "stream",
     "text": [
      "(381109, 12)\n"
     ]
    },
    {
     "data": {
      "text/plain": [
       "Index(['id', 'Gender', 'Age', 'Driving_License', 'Region_Code',\n",
       "       'Previously_Insured', 'Vehicle_Age', 'Vehicle_Damage', 'Annual_Premium',\n",
       "       'Policy_Sales_Channel', 'Vintage', 'Response'],\n",
       "      dtype='object')"
      ]
     },
     "execution_count": 3,
     "metadata": {},
     "output_type": "execute_result"
    }
   ],
   "source": [
    "print(main_data.shape)\n",
    "main_data.columns\n",
    "## Printing the shape (Rows , Columns) of main_data\n",
    "## Checking all the columns present in main_data"
   ]
  },
  {
   "cell_type": "code",
   "execution_count": 4,
   "metadata": {},
   "outputs": [
    {
     "name": "stdout",
     "output_type": "stream",
     "text": [
      "(381109, 12)\n"
     ]
    },
    {
     "data": {
      "text/html": [
       "<div>\n",
       "<style scoped>\n",
       "    .dataframe tbody tr th:only-of-type {\n",
       "        vertical-align: middle;\n",
       "    }\n",
       "\n",
       "    .dataframe tbody tr th {\n",
       "        vertical-align: top;\n",
       "    }\n",
       "\n",
       "    .dataframe thead th {\n",
       "        text-align: right;\n",
       "    }\n",
       "</style>\n",
       "<table border=\"1\" class=\"dataframe\">\n",
       "  <thead>\n",
       "    <tr style=\"text-align: right;\">\n",
       "      <th></th>\n",
       "      <th>id</th>\n",
       "      <th>Gender</th>\n",
       "      <th>Age</th>\n",
       "      <th>Driving_License</th>\n",
       "      <th>Region_Code</th>\n",
       "      <th>Previously_Insured</th>\n",
       "      <th>Vehicle_Age</th>\n",
       "      <th>Vehicle_Damage</th>\n",
       "      <th>Annual_Premium</th>\n",
       "      <th>Policy_Sales_Channel</th>\n",
       "      <th>Vintage</th>\n",
       "      <th>Response</th>\n",
       "    </tr>\n",
       "  </thead>\n",
       "  <tbody>\n",
       "    <tr>\n",
       "      <th>0</th>\n",
       "      <td>1</td>\n",
       "      <td>Male</td>\n",
       "      <td>44</td>\n",
       "      <td>1</td>\n",
       "      <td>28.0</td>\n",
       "      <td>0</td>\n",
       "      <td>&gt; 2 Years</td>\n",
       "      <td>Yes</td>\n",
       "      <td>40454.0</td>\n",
       "      <td>26.0</td>\n",
       "      <td>217</td>\n",
       "      <td>1</td>\n",
       "    </tr>\n",
       "    <tr>\n",
       "      <th>1</th>\n",
       "      <td>2</td>\n",
       "      <td>Male</td>\n",
       "      <td>76</td>\n",
       "      <td>1</td>\n",
       "      <td>3.0</td>\n",
       "      <td>0</td>\n",
       "      <td>1-2 Year</td>\n",
       "      <td>No</td>\n",
       "      <td>33536.0</td>\n",
       "      <td>26.0</td>\n",
       "      <td>183</td>\n",
       "      <td>0</td>\n",
       "    </tr>\n",
       "    <tr>\n",
       "      <th>2</th>\n",
       "      <td>3</td>\n",
       "      <td>Male</td>\n",
       "      <td>47</td>\n",
       "      <td>1</td>\n",
       "      <td>28.0</td>\n",
       "      <td>0</td>\n",
       "      <td>&gt; 2 Years</td>\n",
       "      <td>Yes</td>\n",
       "      <td>38294.0</td>\n",
       "      <td>26.0</td>\n",
       "      <td>27</td>\n",
       "      <td>1</td>\n",
       "    </tr>\n",
       "    <tr>\n",
       "      <th>3</th>\n",
       "      <td>4</td>\n",
       "      <td>Male</td>\n",
       "      <td>21</td>\n",
       "      <td>1</td>\n",
       "      <td>11.0</td>\n",
       "      <td>1</td>\n",
       "      <td>&lt; 1 Year</td>\n",
       "      <td>No</td>\n",
       "      <td>28619.0</td>\n",
       "      <td>152.0</td>\n",
       "      <td>203</td>\n",
       "      <td>0</td>\n",
       "    </tr>\n",
       "    <tr>\n",
       "      <th>4</th>\n",
       "      <td>5</td>\n",
       "      <td>Female</td>\n",
       "      <td>29</td>\n",
       "      <td>1</td>\n",
       "      <td>41.0</td>\n",
       "      <td>1</td>\n",
       "      <td>&lt; 1 Year</td>\n",
       "      <td>No</td>\n",
       "      <td>27496.0</td>\n",
       "      <td>152.0</td>\n",
       "      <td>39</td>\n",
       "      <td>0</td>\n",
       "    </tr>\n",
       "  </tbody>\n",
       "</table>\n",
       "</div>"
      ],
      "text/plain": [
       "   id  Gender  Age  Driving_License  Region_Code  Previously_Insured  \\\n",
       "0   1    Male   44                1         28.0                   0   \n",
       "1   2    Male   76                1          3.0                   0   \n",
       "2   3    Male   47                1         28.0                   0   \n",
       "3   4    Male   21                1         11.0                   1   \n",
       "4   5  Female   29                1         41.0                   1   \n",
       "\n",
       "  Vehicle_Age Vehicle_Damage  Annual_Premium  Policy_Sales_Channel  Vintage  \\\n",
       "0   > 2 Years            Yes         40454.0                  26.0      217   \n",
       "1    1-2 Year             No         33536.0                  26.0      183   \n",
       "2   > 2 Years            Yes         38294.0                  26.0       27   \n",
       "3    < 1 Year             No         28619.0                 152.0      203   \n",
       "4    < 1 Year             No         27496.0                 152.0       39   \n",
       "\n",
       "   Response  \n",
       "0         1  \n",
       "1         0  \n",
       "2         1  \n",
       "3         0  \n",
       "4         0  "
      ]
     },
     "execution_count": 4,
     "metadata": {},
     "output_type": "execute_result"
    }
   ],
   "source": [
    "df = pd.DataFrame(main_data)\n",
    "print(df.shape)\n",
    "df.head()\n",
    "## Creating a copy of the main dataset (main_data) and naming it as df "
   ]
  },
  {
   "cell_type": "code",
   "execution_count": 5,
   "metadata": {
    "scrolled": true
   },
   "outputs": [
    {
     "data": {
      "text/html": [
       "<div>\n",
       "<style scoped>\n",
       "    .dataframe tbody tr th:only-of-type {\n",
       "        vertical-align: middle;\n",
       "    }\n",
       "\n",
       "    .dataframe tbody tr th {\n",
       "        vertical-align: top;\n",
       "    }\n",
       "\n",
       "    .dataframe thead th {\n",
       "        text-align: right;\n",
       "    }\n",
       "</style>\n",
       "<table border=\"1\" class=\"dataframe\">\n",
       "  <thead>\n",
       "    <tr style=\"text-align: right;\">\n",
       "      <th></th>\n",
       "      <th>id</th>\n",
       "      <th>Age</th>\n",
       "      <th>Driving_License</th>\n",
       "      <th>Region_Code</th>\n",
       "      <th>Previously_Insured</th>\n",
       "      <th>Annual_Premium</th>\n",
       "      <th>Policy_Sales_Channel</th>\n",
       "      <th>Vintage</th>\n",
       "      <th>Response</th>\n",
       "    </tr>\n",
       "  </thead>\n",
       "  <tbody>\n",
       "    <tr>\n",
       "      <th>count</th>\n",
       "      <td>381109.000000</td>\n",
       "      <td>381109.000000</td>\n",
       "      <td>381109.000000</td>\n",
       "      <td>381109.000000</td>\n",
       "      <td>381109.000000</td>\n",
       "      <td>381109.000000</td>\n",
       "      <td>381109.000000</td>\n",
       "      <td>381109.000000</td>\n",
       "      <td>381109.000000</td>\n",
       "    </tr>\n",
       "    <tr>\n",
       "      <th>mean</th>\n",
       "      <td>190555.000000</td>\n",
       "      <td>38.822584</td>\n",
       "      <td>0.997869</td>\n",
       "      <td>26.388807</td>\n",
       "      <td>0.458210</td>\n",
       "      <td>30564.389581</td>\n",
       "      <td>112.034295</td>\n",
       "      <td>154.347397</td>\n",
       "      <td>0.122563</td>\n",
       "    </tr>\n",
       "    <tr>\n",
       "      <th>std</th>\n",
       "      <td>110016.836208</td>\n",
       "      <td>15.511611</td>\n",
       "      <td>0.046110</td>\n",
       "      <td>13.229888</td>\n",
       "      <td>0.498251</td>\n",
       "      <td>17213.155057</td>\n",
       "      <td>54.203995</td>\n",
       "      <td>83.671304</td>\n",
       "      <td>0.327936</td>\n",
       "    </tr>\n",
       "    <tr>\n",
       "      <th>min</th>\n",
       "      <td>1.000000</td>\n",
       "      <td>20.000000</td>\n",
       "      <td>0.000000</td>\n",
       "      <td>0.000000</td>\n",
       "      <td>0.000000</td>\n",
       "      <td>2630.000000</td>\n",
       "      <td>1.000000</td>\n",
       "      <td>10.000000</td>\n",
       "      <td>0.000000</td>\n",
       "    </tr>\n",
       "    <tr>\n",
       "      <th>25%</th>\n",
       "      <td>95278.000000</td>\n",
       "      <td>25.000000</td>\n",
       "      <td>1.000000</td>\n",
       "      <td>15.000000</td>\n",
       "      <td>0.000000</td>\n",
       "      <td>24405.000000</td>\n",
       "      <td>29.000000</td>\n",
       "      <td>82.000000</td>\n",
       "      <td>0.000000</td>\n",
       "    </tr>\n",
       "    <tr>\n",
       "      <th>50%</th>\n",
       "      <td>190555.000000</td>\n",
       "      <td>36.000000</td>\n",
       "      <td>1.000000</td>\n",
       "      <td>28.000000</td>\n",
       "      <td>0.000000</td>\n",
       "      <td>31669.000000</td>\n",
       "      <td>133.000000</td>\n",
       "      <td>154.000000</td>\n",
       "      <td>0.000000</td>\n",
       "    </tr>\n",
       "    <tr>\n",
       "      <th>75%</th>\n",
       "      <td>285832.000000</td>\n",
       "      <td>49.000000</td>\n",
       "      <td>1.000000</td>\n",
       "      <td>35.000000</td>\n",
       "      <td>1.000000</td>\n",
       "      <td>39400.000000</td>\n",
       "      <td>152.000000</td>\n",
       "      <td>227.000000</td>\n",
       "      <td>0.000000</td>\n",
       "    </tr>\n",
       "    <tr>\n",
       "      <th>max</th>\n",
       "      <td>381109.000000</td>\n",
       "      <td>85.000000</td>\n",
       "      <td>1.000000</td>\n",
       "      <td>52.000000</td>\n",
       "      <td>1.000000</td>\n",
       "      <td>540165.000000</td>\n",
       "      <td>163.000000</td>\n",
       "      <td>299.000000</td>\n",
       "      <td>1.000000</td>\n",
       "    </tr>\n",
       "  </tbody>\n",
       "</table>\n",
       "</div>"
      ],
      "text/plain": [
       "                  id            Age  Driving_License    Region_Code  \\\n",
       "count  381109.000000  381109.000000    381109.000000  381109.000000   \n",
       "mean   190555.000000      38.822584         0.997869      26.388807   \n",
       "std    110016.836208      15.511611         0.046110      13.229888   \n",
       "min         1.000000      20.000000         0.000000       0.000000   \n",
       "25%     95278.000000      25.000000         1.000000      15.000000   \n",
       "50%    190555.000000      36.000000         1.000000      28.000000   \n",
       "75%    285832.000000      49.000000         1.000000      35.000000   \n",
       "max    381109.000000      85.000000         1.000000      52.000000   \n",
       "\n",
       "       Previously_Insured  Annual_Premium  Policy_Sales_Channel  \\\n",
       "count       381109.000000   381109.000000         381109.000000   \n",
       "mean             0.458210    30564.389581            112.034295   \n",
       "std              0.498251    17213.155057             54.203995   \n",
       "min              0.000000     2630.000000              1.000000   \n",
       "25%              0.000000    24405.000000             29.000000   \n",
       "50%              0.000000    31669.000000            133.000000   \n",
       "75%              1.000000    39400.000000            152.000000   \n",
       "max              1.000000   540165.000000            163.000000   \n",
       "\n",
       "             Vintage       Response  \n",
       "count  381109.000000  381109.000000  \n",
       "mean      154.347397       0.122563  \n",
       "std        83.671304       0.327936  \n",
       "min        10.000000       0.000000  \n",
       "25%        82.000000       0.000000  \n",
       "50%       154.000000       0.000000  \n",
       "75%       227.000000       0.000000  \n",
       "max       299.000000       1.000000  "
      ]
     },
     "execution_count": 5,
     "metadata": {},
     "output_type": "execute_result"
    }
   ],
   "source": [
    "df.describe()\n",
    "## Describing important statistical values from the dataset (df)"
   ]
  },
  {
   "cell_type": "code",
   "execution_count": 6,
   "metadata": {},
   "outputs": [
    {
     "data": {
      "text/plain": [
       "id                      381109\n",
       "Gender                       2\n",
       "Age                         66\n",
       "Driving_License              2\n",
       "Region_Code                 53\n",
       "Previously_Insured           2\n",
       "Vehicle_Age                  3\n",
       "Vehicle_Damage               2\n",
       "Annual_Premium           48838\n",
       "Policy_Sales_Channel       155\n",
       "Vintage                    290\n",
       "Response                     2\n",
       "dtype: int64"
      ]
     },
     "execution_count": 6,
     "metadata": {},
     "output_type": "execute_result"
    }
   ],
   "source": [
    "df.apply(lambda df:len(df.unique()))\n",
    "## Identifying unique values in each variable from the dataset (df)"
   ]
  },
  {
   "cell_type": "code",
   "execution_count": 7,
   "metadata": {},
   "outputs": [
    {
     "name": "stdout",
     "output_type": "stream",
     "text": [
      "Gender:  <bound method Series.all of Male      206089\n",
      "Female    175020\n",
      "Name: Gender, dtype: int64>\n",
      "\n",
      "Driving License:  <bound method Series.count of 1    380297\n",
      "0       812\n",
      "Name: Driving_License, dtype: int64>\n",
      "\n",
      "Previously Insured:  <bound method Series.all of 0    206481\n",
      "1    174628\n",
      "Name: Previously_Insured, dtype: int64>\n",
      "\n",
      "Vehicle Age:  <bound method Series.all of 1-2 Year     200316\n",
      "< 1 Year     164786\n",
      "> 2 Years     16007\n",
      "Name: Vehicle_Age, dtype: int64>\n",
      "\n",
      "Vehicle Damage:  <bound method Series.all of Yes    192413\n",
      "No     188696\n",
      "Name: Vehicle_Damage, dtype: int64>\n",
      "\n",
      "Response:  <bound method Series.all of 0    334399\n",
      "1     46710\n",
      "Name: Response, dtype: int64>\n"
     ]
    }
   ],
   "source": [
    "print('Gender: ', df['Gender'].value_counts().all)\n",
    "print()\n",
    "print('Driving License: ', df['Driving_License'].value_counts().count)\n",
    "print()\n",
    "print('Previously Insured: ', df['Previously_Insured'].value_counts().all)\n",
    "print()\n",
    "print('Vehicle Age: ', df['Vehicle_Age'].value_counts().all)\n",
    "print()\n",
    "print('Vehicle Damage: ', df['Vehicle_Damage'].value_counts().all)\n",
    "print()\n",
    "print('Response: ', df['Response'].value_counts().all)\n",
    "\n",
    "## Total count of entries for each unique values for each variable"
   ]
  },
  {
   "cell_type": "markdown",
   "metadata": {},
   "source": [
    "Result: Vales for each variable from above code:\n",
    "1. Gender: Male = 2,06,089 | Female = 1,75,020\n",
    "2. Driving_License: Have License = 3,80,297 | Don't have License = 812\n",
    "3. Previously_Insured: Didn't have insurance = 2,06,481 | Previously had insurance = 1,74,628\n",
    "4. Vehicle_Age: 1-2 = 2,00,316 | <1 = 1,64,786 | >2 = 16,007\n",
    "5. Vehicle_Damage: Yes = 1,92,413 | No = 1,88,696\n",
    "6. Response: Not interested = 3,34,399 | Interested = 46,710"
   ]
  },
  {
   "cell_type": "code",
   "execution_count": 8,
   "metadata": {
    "scrolled": true
   },
   "outputs": [
    {
     "name": "stdout",
     "output_type": "stream",
     "text": [
      "\n",
      "The frequency distribution for id:\n",
      "2047      1\n",
      "295621    1\n",
      "84604     1\n",
      "82557     1\n",
      "88702     1\n",
      "         ..\n",
      "107934    1\n",
      "109983    1\n",
      "21920     1\n",
      "23969     1\n",
      "2049      1\n",
      "Name: id, Length: 381109, dtype: int64\n",
      "\n",
      "The frequency distribution for Gender:\n",
      "Male      206089\n",
      "Female    175020\n",
      "Name: Gender, dtype: int64\n",
      "\n",
      "The frequency distribution for Age:\n",
      "24    25960\n",
      "23    24256\n",
      "22    20964\n",
      "25    20636\n",
      "21    16457\n",
      "      ...  \n",
      "81       56\n",
      "82       29\n",
      "83       22\n",
      "84       11\n",
      "85       11\n",
      "Name: Age, Length: 66, dtype: int64\n",
      "\n",
      "The frequency distribution for Driving_License:\n",
      "1    380297\n",
      "0       812\n",
      "Name: Driving_License, dtype: int64\n",
      "\n",
      "The frequency distribution for Region_Code:\n",
      "28.0    106415\n",
      "8.0      33877\n",
      "46.0     19749\n",
      "41.0     18263\n",
      "15.0     13308\n",
      "30.0     12191\n",
      "29.0     11065\n",
      "50.0     10243\n",
      "3.0       9251\n",
      "11.0      9232\n",
      "36.0      8797\n",
      "33.0      7654\n",
      "47.0      7436\n",
      "35.0      6942\n",
      "6.0       6280\n",
      "45.0      5605\n",
      "37.0      5501\n",
      "18.0      5153\n",
      "48.0      4681\n",
      "14.0      4678\n",
      "39.0      4644\n",
      "10.0      4374\n",
      "21.0      4266\n",
      "2.0       4038\n",
      "13.0      4036\n",
      "7.0       3279\n",
      "12.0      3198\n",
      "9.0       3101\n",
      "27.0      2823\n",
      "32.0      2787\n",
      "43.0      2639\n",
      "17.0      2617\n",
      "26.0      2587\n",
      "25.0      2503\n",
      "24.0      2415\n",
      "38.0      2026\n",
      "0.0       2021\n",
      "16.0      2007\n",
      "31.0      1960\n",
      "23.0      1960\n",
      "20.0      1935\n",
      "49.0      1832\n",
      "4.0       1801\n",
      "34.0      1664\n",
      "19.0      1535\n",
      "22.0      1309\n",
      "40.0      1295\n",
      "5.0       1279\n",
      "1.0       1008\n",
      "44.0       808\n",
      "42.0       591\n",
      "52.0       267\n",
      "51.0       183\n",
      "Name: Region_Code, dtype: int64\n",
      "\n",
      "The frequency distribution for Previously_Insured:\n",
      "0    206481\n",
      "1    174628\n",
      "Name: Previously_Insured, dtype: int64\n",
      "\n",
      "The frequency distribution for Vehicle_Age:\n",
      "1-2 Year     200316\n",
      "< 1 Year     164786\n",
      "> 2 Years     16007\n",
      "Name: Vehicle_Age, dtype: int64\n",
      "\n",
      "The frequency distribution for Vehicle_Damage:\n",
      "Yes    192413\n",
      "No     188696\n",
      "Name: Vehicle_Damage, dtype: int64\n",
      "\n",
      "The frequency distribution for Annual_Premium:\n",
      "2630.0     64877\n",
      "69856.0      140\n",
      "39008.0       41\n",
      "38287.0       38\n",
      "45179.0       38\n",
      "           ...  \n",
      "62326.0        1\n",
      "59733.0        1\n",
      "55934.0        1\n",
      "75387.0        1\n",
      "53346.0        1\n",
      "Name: Annual_Premium, Length: 48838, dtype: int64\n",
      "\n",
      "The frequency distribution for Policy_Sales_Channel:\n",
      "152.0    134784\n",
      "26.0      79700\n",
      "124.0     73995\n",
      "160.0     21779\n",
      "156.0     10661\n",
      "          ...  \n",
      "144.0         1\n",
      "149.0         1\n",
      "84.0          1\n",
      "143.0         1\n",
      "43.0          1\n",
      "Name: Policy_Sales_Channel, Length: 155, dtype: int64\n",
      "\n",
      "The frequency distribution for Vintage:\n",
      "256    1418\n",
      "73     1410\n",
      "282    1397\n",
      "158    1394\n",
      "187    1392\n",
      "       ... \n",
      "205    1235\n",
      "89     1234\n",
      "32     1230\n",
      "224    1227\n",
      "277    1226\n",
      "Name: Vintage, Length: 290, dtype: int64\n",
      "\n",
      "The frequency distribution for Response:\n",
      "0    334399\n",
      "1     46710\n",
      "Name: Response, dtype: int64\n"
     ]
    }
   ],
   "source": [
    "## Alternate method for above code\n",
    "category_cols = df.select_dtypes(include=['object','int64','float64'])\n",
    "for col in category_cols:\n",
    "    frequency = df[col].value_counts()\n",
    "    print('\\nThe frequency distribution for ' + col + ':')\n",
    "    print(frequency)\n",
    "    \n",
    "## Number of times each value appears in the column"
   ]
  },
  {
   "cell_type": "code",
   "execution_count": 9,
   "metadata": {},
   "outputs": [
    {
     "data": {
      "text/plain": [
       "<matplotlib.axes._subplots.AxesSubplot at 0x2814d315460>"
      ]
     },
     "execution_count": 9,
     "metadata": {},
     "output_type": "execute_result"
    },
    {
     "data": {
      "image/png": "[encoded data removed]",
      "text/plain": [
       "<Figure size 432x288 with 1 Axes>"
      ]
     },
     "metadata": {
      "needs_background": "light"
     },
     "output_type": "display_data"
    }
   ],
   "source": [
    "sns.countplot(df.Response)"
   ]
  },
  {
   "cell_type": "code",
   "execution_count": 10,
   "metadata": {},
   "outputs": [
    {
     "data": {
      "text/plain": [
       "<matplotlib.axes._subplots.AxesSubplot at 0x2814d656700>"
      ]
     },
     "execution_count": 10,
     "metadata": {},
     "output_type": "execute_result"
    },
    {
     "data": {
      "image/png": "[encoded data removed]",
      "text/plain": [
       "<Figure size 432x288 with 1 Axes>"
      ]
     },
     "metadata": {
      "needs_background": "light"
     },
     "output_type": "display_data"
    }
   ],
   "source": [
    "sns.countplot(df.Vehicle_Damage)"
   ]
  },
  {
   "cell_type": "code",
   "execution_count": 11,
   "metadata": {},
   "outputs": [
    {
     "data": {
      "text/plain": [
       "<matplotlib.axes._subplots.AxesSubplot at 0x2814d6c4fa0>"
      ]
     },
     "execution_count": 11,
     "metadata": {},
     "output_type": "execute_result"
    },
    {
     "data": {
      "image/png": "[encoded data removed]",
      "text/plain": [
       "<Figure size 432x288 with 1 Axes>"
      ]
     },
     "metadata": {
      "needs_background": "light"
     },
     "output_type": "display_data"
    }
   ],
   "source": [
    "sns.countplot(df.Vehicle_Age)"
   ]
  },
  {
   "cell_type": "code",
   "execution_count": 12,
   "metadata": {
    "scrolled": false
   },
   "outputs": [
    {
     "data": {
      "text/plain": [
       "<matplotlib.axes._subplots.AxesSubplot at 0x2814d8af880>"
      ]
     },
     "execution_count": 12,
     "metadata": {},
     "output_type": "execute_result"
    },
    {
     "data": {
      "image/png": "[encoded data removed]",
      "text/plain": [
       "<Figure size 432x288 with 1 Axes>"
      ]
     },
     "metadata": {
      "needs_background": "light"
     },
     "output_type": "display_data"
    }
   ],
   "source": [
    "sns.countplot(df.Gender)"
   ]
  },
  {
   "cell_type": "code",
   "execution_count": 13,
   "metadata": {},
   "outputs": [
    {
     "data": {
      "text/plain": [
       "<matplotlib.axes._subplots.AxesSubplot at 0x281507af2b0>"
      ]
     },
     "execution_count": 13,
     "metadata": {},
     "output_type": "execute_result"
    },
    {
     "data": {
      "image/png": "[encoded data removed]",
      "text/plain": [
       "<Figure size 432x288 with 1 Axes>"
      ]
     },
     "metadata": {
      "needs_background": "light"
     },
     "output_type": "display_data"
    }
   ],
   "source": [
    "sns.countplot(df.Driving_License)"
   ]
  },
  {
   "cell_type": "code",
   "execution_count": 14,
   "metadata": {},
   "outputs": [
    {
     "data": {
      "text/plain": [
       "<matplotlib.axes._subplots.AxesSubplot at 0x2814d73e100>"
      ]
     },
     "execution_count": 14,
     "metadata": {},
     "output_type": "execute_result"
    },
    {
     "data": {
      "image/png": "[encoded data removed]",
      "text/plain": [
       "<Figure size 432x288 with 1 Axes>"
      ]
     },
     "metadata": {
      "needs_background": "light"
     },
     "output_type": "display_data"
    }
   ],
   "source": [
    "sns.countplot(df.Previously_Insured)"
   ]
  },
  {
   "cell_type": "code",
   "execution_count": 15,
   "metadata": {},
   "outputs": [
    {
     "data": {
      "text/plain": [
       "<matplotlib.axes._subplots.AxesSubplot at 0x2814d786e20>"
      ]
     },
     "execution_count": 15,
     "metadata": {},
     "output_type": "execute_result"
    },
    {
     "data": {
      "image/png": "[encoded data removed]",
      "text/plain": [
       "<Figure size 432x288 with 1 Axes>"
      ]
     },
     "metadata": {
      "needs_background": "light"
     },
     "output_type": "display_data"
    }
   ],
   "source": [
    "sns.distplot(df.Annual_Premium)"
   ]
  },
  {
   "cell_type": "code",
   "execution_count": 16,
   "metadata": {},
   "outputs": [
    {
     "data": {
      "text/plain": [
       "<matplotlib.axes._subplots.AxesSubplot at 0x28150469070>"
      ]
     },
     "execution_count": 16,
     "metadata": {},
     "output_type": "execute_result"
    },
    {
     "data": {
      "image/png": "[encoded data removed]",
      "text/plain": [
       "<Figure size 1152x576 with 1 Axes>"
      ]
     },
     "metadata": {},
     "output_type": "display_data"
    }
   ],
   "source": [
    "sns.set(rc={'figure.figsize':(16,8)})\n",
    "sns.countplot(df.Age)"
   ]
  },
  {
   "cell_type": "code",
   "execution_count": 17,
   "metadata": {},
   "outputs": [
    {
     "data": {
      "text/plain": [
       "id                      0\n",
       "Gender                  0\n",
       "Age                     0\n",
       "Driving_License         0\n",
       "Region_Code             0\n",
       "Previously_Insured      0\n",
       "Vehicle_Age             0\n",
       "Vehicle_Damage          0\n",
       "Annual_Premium          0\n",
       "Policy_Sales_Channel    0\n",
       "Vintage                 0\n",
       "Response                0\n",
       "dtype: int64"
      ]
     },
     "execution_count": 17,
     "metadata": {},
     "output_type": "execute_result"
    }
   ],
   "source": [
    "df.isnull().sum()\n",
    "## Checking for all the missing values from the dataset (df)"
   ]
  },
  {
   "cell_type": "code",
   "execution_count": 18,
   "metadata": {},
   "outputs": [
    {
     "data": {
      "text/html": [
       "<div>\n",
       "<style scoped>\n",
       "    .dataframe tbody tr th:only-of-type {\n",
       "        vertical-align: middle;\n",
       "    }\n",
       "\n",
       "    .dataframe tbody tr th {\n",
       "        vertical-align: top;\n",
       "    }\n",
       "\n",
       "    .dataframe thead th {\n",
       "        text-align: right;\n",
       "    }\n",
       "</style>\n",
       "<table border=\"1\" class=\"dataframe\">\n",
       "  <thead>\n",
       "    <tr style=\"text-align: right;\">\n",
       "      <th></th>\n",
       "      <th>id</th>\n",
       "      <th>Age</th>\n",
       "      <th>Driving_License</th>\n",
       "      <th>Region_Code</th>\n",
       "      <th>Previously_Insured</th>\n",
       "      <th>Annual_Premium</th>\n",
       "      <th>Policy_Sales_Channel</th>\n",
       "      <th>Vintage</th>\n",
       "      <th>Response</th>\n",
       "    </tr>\n",
       "  </thead>\n",
       "  <tbody>\n",
       "    <tr>\n",
       "      <th>id</th>\n",
       "      <td>1.000000</td>\n",
       "      <td>0.001561</td>\n",
       "      <td>-0.000564</td>\n",
       "      <td>-0.000572</td>\n",
       "      <td>0.002457</td>\n",
       "      <td>0.003027</td>\n",
       "      <td>-0.002837</td>\n",
       "      <td>-0.000630</td>\n",
       "      <td>-0.001368</td>\n",
       "    </tr>\n",
       "    <tr>\n",
       "      <th>Age</th>\n",
       "      <td>0.001561</td>\n",
       "      <td>1.000000</td>\n",
       "      <td>-0.079782</td>\n",
       "      <td>0.042574</td>\n",
       "      <td>-0.254682</td>\n",
       "      <td>0.067507</td>\n",
       "      <td>-0.577826</td>\n",
       "      <td>-0.001264</td>\n",
       "      <td>0.111147</td>\n",
       "    </tr>\n",
       "    <tr>\n",
       "      <th>Driving_License</th>\n",
       "      <td>-0.000564</td>\n",
       "      <td>-0.079782</td>\n",
       "      <td>1.000000</td>\n",
       "      <td>-0.001081</td>\n",
       "      <td>0.014969</td>\n",
       "      <td>-0.011906</td>\n",
       "      <td>0.043731</td>\n",
       "      <td>-0.000848</td>\n",
       "      <td>0.010155</td>\n",
       "    </tr>\n",
       "    <tr>\n",
       "      <th>Region_Code</th>\n",
       "      <td>-0.000572</td>\n",
       "      <td>0.042574</td>\n",
       "      <td>-0.001081</td>\n",
       "      <td>1.000000</td>\n",
       "      <td>-0.024659</td>\n",
       "      <td>-0.010588</td>\n",
       "      <td>-0.042420</td>\n",
       "      <td>-0.002750</td>\n",
       "      <td>0.010570</td>\n",
       "    </tr>\n",
       "    <tr>\n",
       "      <th>Previously_Insured</th>\n",
       "      <td>0.002457</td>\n",
       "      <td>-0.254682</td>\n",
       "      <td>0.014969</td>\n",
       "      <td>-0.024659</td>\n",
       "      <td>1.000000</td>\n",
       "      <td>0.004269</td>\n",
       "      <td>0.219381</td>\n",
       "      <td>0.002537</td>\n",
       "      <td>-0.341170</td>\n",
       "    </tr>\n",
       "    <tr>\n",
       "      <th>Annual_Premium</th>\n",
       "      <td>0.003027</td>\n",
       "      <td>0.067507</td>\n",
       "      <td>-0.011906</td>\n",
       "      <td>-0.010588</td>\n",
       "      <td>0.004269</td>\n",
       "      <td>1.000000</td>\n",
       "      <td>-0.113247</td>\n",
       "      <td>-0.000608</td>\n",
       "      <td>0.022575</td>\n",
       "    </tr>\n",
       "    <tr>\n",
       "      <th>Policy_Sales_Channel</th>\n",
       "      <td>-0.002837</td>\n",
       "      <td>-0.577826</td>\n",
       "      <td>0.043731</td>\n",
       "      <td>-0.042420</td>\n",
       "      <td>0.219381</td>\n",
       "      <td>-0.113247</td>\n",
       "      <td>1.000000</td>\n",
       "      <td>0.000002</td>\n",
       "      <td>-0.139042</td>\n",
       "    </tr>\n",
       "    <tr>\n",
       "      <th>Vintage</th>\n",
       "      <td>-0.000630</td>\n",
       "      <td>-0.001264</td>\n",
       "      <td>-0.000848</td>\n",
       "      <td>-0.002750</td>\n",
       "      <td>0.002537</td>\n",
       "      <td>-0.000608</td>\n",
       "      <td>0.000002</td>\n",
       "      <td>1.000000</td>\n",
       "      <td>-0.001050</td>\n",
       "    </tr>\n",
       "    <tr>\n",
       "      <th>Response</th>\n",
       "      <td>-0.001368</td>\n",
       "      <td>0.111147</td>\n",
       "      <td>0.010155</td>\n",
       "      <td>0.010570</td>\n",
       "      <td>-0.341170</td>\n",
       "      <td>0.022575</td>\n",
       "      <td>-0.139042</td>\n",
       "      <td>-0.001050</td>\n",
       "      <td>1.000000</td>\n",
       "    </tr>\n",
       "  </tbody>\n",
       "</table>\n",
       "</div>"
      ],
      "text/plain": [
       "                            id       Age  Driving_License  Region_Code  \\\n",
       "id                    1.000000  0.001561        -0.000564    -0.000572   \n",
       "Age                   0.001561  1.000000        -0.079782     0.042574   \n",
       "Driving_License      -0.000564 -0.079782         1.000000    -0.001081   \n",
       "Region_Code          -0.000572  0.042574        -0.001081     1.000000   \n",
       "Previously_Insured    0.002457 -0.254682         0.014969    -0.024659   \n",
       "Annual_Premium        0.003027  0.067507        -0.011906    -0.010588   \n",
       "Policy_Sales_Channel -0.002837 -0.577826         0.043731    -0.042420   \n",
       "Vintage              -0.000630 -0.001264        -0.000848    -0.002750   \n",
       "Response             -0.001368  0.111147         0.010155     0.010570   \n",
       "\n",
       "                      Previously_Insured  Annual_Premium  \\\n",
       "id                              0.002457        0.003027   \n",
       "Age                            -0.254682        0.067507   \n",
       "Driving_License                 0.014969       -0.011906   \n",
       "Region_Code                    -0.024659       -0.010588   \n",
       "Previously_Insured              1.000000        0.004269   \n",
       "Annual_Premium                  0.004269        1.000000   \n",
       "Policy_Sales_Channel            0.219381       -0.113247   \n",
       "Vintage                         0.002537       -0.000608   \n",
       "Response                       -0.341170        0.022575   \n",
       "\n",
       "                      Policy_Sales_Channel   Vintage  Response  \n",
       "id                               -0.002837 -0.000630 -0.001368  \n",
       "Age                              -0.577826 -0.001264  0.111147  \n",
       "Driving_License                   0.043731 -0.000848  0.010155  \n",
       "Region_Code                      -0.042420 -0.002750  0.010570  \n",
       "Previously_Insured                0.219381  0.002537 -0.341170  \n",
       "Annual_Premium                   -0.113247 -0.000608  0.022575  \n",
       "Policy_Sales_Channel              1.000000  0.000002 -0.139042  \n",
       "Vintage                           0.000002  1.000000 -0.001050  \n",
       "Response                         -0.139042 -0.001050  1.000000  "
      ]
     },
     "execution_count": 18,
     "metadata": {},
     "output_type": "execute_result"
    }
   ],
   "source": [
    "df.corr()\n",
    "## Checking the correlation of each varible to another"
   ]
  },
  {
   "cell_type": "code",
   "execution_count": 19,
   "metadata": {},
   "outputs": [
    {
     "data": {
      "text/plain": [
       "<matplotlib.axes._subplots.AxesSubplot at 0x281505b8c10>"
      ]
     },
     "execution_count": 19,
     "metadata": {},
     "output_type": "execute_result"
    },
    {
     "data": {
      "image/png": "[encoded data removed]",
      "text/plain": [
       "<Figure size 432x360 with 2 Axes>"
      ]
     },
     "metadata": {},
     "output_type": "display_data"
    }
   ],
   "source": [
    "corrmat = df.corr()\n",
    "\n",
    "f, ax = plt.subplots(figsize =(6, 5)) \n",
    "sns.heatmap(corrmat, ax = ax, cmap =\"YlGnBu\", linewidths = 0.1)\n",
    "\n",
    "## Checking for correlation and plotting it on a heatmap"
   ]
  },
  {
   "cell_type": "markdown",
   "metadata": {},
   "source": [
    "From the above:\n",
    "1. The shape of the dataset is 3,81,109 rows and 12 columns\n",
    "2. Data description:\n",
    "    1. Age: Mean age group is 36-39 years\n",
    "    2. Driving_License: Everyone insured has a driving license\n",
    "    3. Annual_Premium: Mean annual premium is Rs. 30,564/-\n",
    "    4. Vintage: Mean number of days the customer has been associated with the company is 154 days\n",
    "3. Visualization description:\n",
    "    1. Response: More customers are not interested in Vehicle insurance\n",
    "    2. Vehicle_Damage: Nearly 50% of customers got their vehicles damaged in past\n",
    "    3. Vehicle_Age: Most of the vehicles are between the age of 1-2 years, followed by age less than a year, and very few vehicles with age more than 2 years\n",
    "    4. Gender: Nearly 55-60% of the customers are males\n",
    "    5. Driving_License: Almost everyone has a valid driving license\n",
    "    6. Previously_Insured: Nearly 55-60% customers don't have a vehicle insurance\n",
    "    7. Annual_Premium: Majority of the customers fall under 3,000 - 10,000 bracket\n",
    "    8. Age: Majority of the age group comes between 21-27 years of age\n",
    "4. There are no missing values in this dataset\n",
    "5. The data in this dataset are not positively or negatively correlated to one another\n",
    "   i.e, there is no significant correlation in this dataset"
   ]
  },
  {
   "cell_type": "code",
   "execution_count": 20,
   "metadata": {},
   "outputs": [
    {
     "data": {
      "text/plain": [
       "<matplotlib.axes._subplots.AxesSubplot at 0x2814d2ffcd0>"
      ]
     },
     "execution_count": 20,
     "metadata": {},
     "output_type": "execute_result"
    },
    {
     "data": {
      "image/png": "[encoded data removed]",
      "text/plain": [
       "<Figure size 1152x576 with 1 Axes>"
      ]
     },
     "metadata": {},
     "output_type": "display_data"
    }
   ],
   "source": [
    "df.boxplot()\n",
    "## Create Boxplot to check for outliers in the entire dataset (df)"
   ]
  },
  {
   "cell_type": "code",
   "execution_count": 21,
   "metadata": {},
   "outputs": [
    {
     "data": {
      "text/plain": [
       "<matplotlib.axes._subplots.AxesSubplot at 0x281505c4790>"
      ]
     },
     "execution_count": 21,
     "metadata": {},
     "output_type": "execute_result"
    },
    {
     "data": {
      "image/png": "[encoded data removed]",
      "text/plain": [
       "<Figure size 1152x576 with 1 Axes>"
      ]
     },
     "metadata": {},
     "output_type": "display_data"
    }
   ],
   "source": [
    "df.boxplot(['Driving_License','Annual_Premium', 'Response'])\n",
    "## Creating Boxplot to check closely for outliers from the three variables where we found outliers"
   ]
  },
  {
   "cell_type": "code",
   "execution_count": 22,
   "metadata": {
    "scrolled": true
   },
   "outputs": [
    {
     "name": "stdout",
     "output_type": "stream",
     "text": [
      " Index                |     High |       Low |   Median\n",
      "----------------------+----------+-----------+----------\n",
      " id                   | 571663   | -190553   |   190555\n",
      " Age                  |     85   |     -11   |       36\n",
      " Driving_License      |      1   |       1   |        1\n",
      " Region_Code          |     65   |     -15   |       28\n",
      " Previously_Insured   |      2.5 |      -1.5 |        0\n",
      " Annual_Premium       |  61892.5 |    1912.5 |    31669\n",
      " Policy_Sales_Channel |    336.5 |    -155.5 |      133\n",
      " Vintage              |    444.5 |    -135.5 |      154\n",
      " Response             |      0   |       0   |        0\n"
     ]
    }
   ],
   "source": [
    "q1 = df.quantile(0.25) #first quartile value\n",
    "q2 = df.quantile(0.50) #second quartile value\n",
    "q3 = df.quantile(0.75) # third quartile value\n",
    "iqr = q3-q1 #Interquartile range\n",
    "low  = q1-1.5*iqr #acceptable range\n",
    "high = q3+1.5*iqr #acceptable range\n",
    "\n",
    "high_low = pd.concat([high, low, q2], join = 'outer', axis = 1)\n",
    "print(tabulate(high_low, headers=['Index', 'High', 'Low' , 'Median'], tablefmt='presto'))\n",
    "\n",
    "## Finding the IQR for the given data, this helps in understanding for treatment of outliers"
   ]
  },
  {
   "cell_type": "markdown",
   "metadata": {},
   "source": [
    "However, in this case, we will not treat the outliers because:\n",
    "1. Driving_License: The only values in this variable are 0 and 1 - so if we alter the values to fit in the boxplot, the model may not be accurate due to manipulated information\n",
    "2. Annual_Premuim: Annual premium cannot stay the same for every customer, because as and when the premium increases the value for cover of the insurance increases and vice versa, therefore for higher insurance cover the customer will be paying a higher premium and if we alter the values for this variable for it to fit in the boxplot, the final output of the model will be affected as the data will now have highly manipulated values/ information\n",
    "3. Response: The only values in this variable are 0 and 1 - and also because this is the target variable, thereby any manipulation of data in this variable will lead to poor model result"
   ]
  },
  {
   "cell_type": "code",
   "execution_count": 23,
   "metadata": {},
   "outputs": [
    {
     "data": {
      "text/plain": [
       "array([[<matplotlib.axes._subplots.AxesSubplot object at 0x000002814D2C88B0>,\n",
       "        <matplotlib.axes._subplots.AxesSubplot object at 0x0000028152E30790>,\n",
       "        <matplotlib.axes._subplots.AxesSubplot object at 0x0000028152E5BBE0>],\n",
       "       [<matplotlib.axes._subplots.AxesSubplot object at 0x0000028152E870D0>,\n",
       "        <matplotlib.axes._subplots.AxesSubplot object at 0x0000028152EC04C0>,\n",
       "        <matplotlib.axes._subplots.AxesSubplot object at 0x0000028152EED850>],\n",
       "       [<matplotlib.axes._subplots.AxesSubplot object at 0x0000028152EED940>,\n",
       "        <matplotlib.axes._subplots.AxesSubplot object at 0x0000028152F17DF0>,\n",
       "        <matplotlib.axes._subplots.AxesSubplot object at 0x0000028152F7F640>]],\n",
       "      dtype=object)"
      ]
     },
     "execution_count": 23,
     "metadata": {},
     "output_type": "execute_result"
    },
    {
     "data": {
      "image/png": "[encoded data removed]",
      "text/plain": [
       "<Figure size 1440x1080 with 9 Axes>"
      ]
     },
     "metadata": {},
     "output_type": "display_data"
    }
   ],
   "source": [
    "df.hist(edgecolor='black', linewidth=1.2, figsize=(20,15))\n",
    "## Histogram to understand the distribution of data for numeric variables"
   ]
  },
  {
   "cell_type": "markdown",
   "metadata": {},
   "source": [
    "From the above histogram:\n",
    "1. Age: Majority of data distribution is seen amongst the age group of 20-30 years\n",
    "2. Policy_Sales_Channel: Majority of the data distribution is seen in the following three Channel code frequency bin:\n",
    "    1. Code frequency 160\n",
    "    2. Code frequency 20\n",
    "    3. Code frequency 120\n",
    "3. Region_Code: The data is nearly equally distributed among all codes except for Code frequency bin 30 where maximum data distribution is observed\n",
    "4. Vintage: Data seems to be nearly equally distributed among all frequency bins"
   ]
  },
  {
   "cell_type": "code",
   "execution_count": 24,
   "metadata": {},
   "outputs": [
    {
     "name": "stdout",
     "output_type": "stream",
     "text": [
      "['Gender', 'Vehicle_Age', 'Vehicle_Damage']\n"
     ]
    }
   ],
   "source": [
    "colname =[]\n",
    "for j in df.columns[:]:\n",
    "    if df[j].dtype == 'object':\n",
    "        colname.append(j)\n",
    "print(colname)\n",
    "\n",
    "## Listing down all object data type variables from dataset (df)"
   ]
  },
  {
   "cell_type": "code",
   "execution_count": 25,
   "metadata": {},
   "outputs": [],
   "source": [
    "from sklearn import preprocessing\n",
    "\n",
    "le = preprocessing.LabelEncoder()\n",
    "\n",
    "for j in colname:\n",
    "    df[j] = le.fit_transform(df[j].astype(str))\n",
    "    \n",
    "## Preprocessing data by converting object data type into numerical values for splitting it to X and Y"
   ]
  },
  {
   "cell_type": "code",
   "execution_count": 26,
   "metadata": {},
   "outputs": [
    {
     "data": {
      "text/html": [
       "<div>\n",
       "<style scoped>\n",
       "    .dataframe tbody tr th:only-of-type {\n",
       "        vertical-align: middle;\n",
       "    }\n",
       "\n",
       "    .dataframe tbody tr th {\n",
       "        vertical-align: top;\n",
       "    }\n",
       "\n",
       "    .dataframe thead th {\n",
       "        text-align: right;\n",
       "    }\n",
       "</style>\n",
       "<table border=\"1\" class=\"dataframe\">\n",
       "  <thead>\n",
       "    <tr style=\"text-align: right;\">\n",
       "      <th></th>\n",
       "      <th>id</th>\n",
       "      <th>Gender</th>\n",
       "      <th>Age</th>\n",
       "      <th>Driving_License</th>\n",
       "      <th>Region_Code</th>\n",
       "      <th>Previously_Insured</th>\n",
       "      <th>Vehicle_Age</th>\n",
       "      <th>Vehicle_Damage</th>\n",
       "      <th>Annual_Premium</th>\n",
       "      <th>Policy_Sales_Channel</th>\n",
       "      <th>Vintage</th>\n",
       "      <th>Response</th>\n",
       "    </tr>\n",
       "  </thead>\n",
       "  <tbody>\n",
       "    <tr>\n",
       "      <th>0</th>\n",
       "      <td>1</td>\n",
       "      <td>1</td>\n",
       "      <td>44</td>\n",
       "      <td>1</td>\n",
       "      <td>28.0</td>\n",
       "      <td>0</td>\n",
       "      <td>2</td>\n",
       "      <td>1</td>\n",
       "      <td>40454.0</td>\n",
       "      <td>26.0</td>\n",
       "      <td>217</td>\n",
       "      <td>1</td>\n",
       "    </tr>\n",
       "    <tr>\n",
       "      <th>1</th>\n",
       "      <td>2</td>\n",
       "      <td>1</td>\n",
       "      <td>76</td>\n",
       "      <td>1</td>\n",
       "      <td>3.0</td>\n",
       "      <td>0</td>\n",
       "      <td>0</td>\n",
       "      <td>0</td>\n",
       "      <td>33536.0</td>\n",
       "      <td>26.0</td>\n",
       "      <td>183</td>\n",
       "      <td>0</td>\n",
       "    </tr>\n",
       "    <tr>\n",
       "      <th>2</th>\n",
       "      <td>3</td>\n",
       "      <td>1</td>\n",
       "      <td>47</td>\n",
       "      <td>1</td>\n",
       "      <td>28.0</td>\n",
       "      <td>0</td>\n",
       "      <td>2</td>\n",
       "      <td>1</td>\n",
       "      <td>38294.0</td>\n",
       "      <td>26.0</td>\n",
       "      <td>27</td>\n",
       "      <td>1</td>\n",
       "    </tr>\n",
       "    <tr>\n",
       "      <th>3</th>\n",
       "      <td>4</td>\n",
       "      <td>1</td>\n",
       "      <td>21</td>\n",
       "      <td>1</td>\n",
       "      <td>11.0</td>\n",
       "      <td>1</td>\n",
       "      <td>1</td>\n",
       "      <td>0</td>\n",
       "      <td>28619.0</td>\n",
       "      <td>152.0</td>\n",
       "      <td>203</td>\n",
       "      <td>0</td>\n",
       "    </tr>\n",
       "    <tr>\n",
       "      <th>4</th>\n",
       "      <td>5</td>\n",
       "      <td>0</td>\n",
       "      <td>29</td>\n",
       "      <td>1</td>\n",
       "      <td>41.0</td>\n",
       "      <td>1</td>\n",
       "      <td>1</td>\n",
       "      <td>0</td>\n",
       "      <td>27496.0</td>\n",
       "      <td>152.0</td>\n",
       "      <td>39</td>\n",
       "      <td>0</td>\n",
       "    </tr>\n",
       "  </tbody>\n",
       "</table>\n",
       "</div>"
      ],
      "text/plain": [
       "   id  Gender  Age  Driving_License  Region_Code  Previously_Insured  \\\n",
       "0   1       1   44                1         28.0                   0   \n",
       "1   2       1   76                1          3.0                   0   \n",
       "2   3       1   47                1         28.0                   0   \n",
       "3   4       1   21                1         11.0                   1   \n",
       "4   5       0   29                1         41.0                   1   \n",
       "\n",
       "   Vehicle_Age  Vehicle_Damage  Annual_Premium  Policy_Sales_Channel  Vintage  \\\n",
       "0            2               1         40454.0                  26.0      217   \n",
       "1            0               0         33536.0                  26.0      183   \n",
       "2            2               1         38294.0                  26.0       27   \n",
       "3            1               0         28619.0                 152.0      203   \n",
       "4            1               0         27496.0                 152.0       39   \n",
       "\n",
       "   Response  \n",
       "0         1  \n",
       "1         0  \n",
       "2         1  \n",
       "3         0  \n",
       "4         0  "
      ]
     },
     "execution_count": 26,
     "metadata": {},
     "output_type": "execute_result"
    }
   ],
   "source": [
    "df.head()\n",
    "\n",
    "## Verifying if the preprocessing is conducted successfully"
   ]
  },
  {
   "cell_type": "code",
   "execution_count": 27,
   "metadata": {},
   "outputs": [],
   "source": [
    "X = df.values[:,:-1]\n",
    "Y = df.values[:,-1]\n",
    "Y = Y.astype(int)\n",
    "\n",
    "## Splitting data in X and Y for splitting the X and Y data into train and test"
   ]
  },
  {
   "cell_type": "code",
   "execution_count": 28,
   "metadata": {},
   "outputs": [],
   "source": [
    "from sklearn.preprocessing import StandardScaler\n",
    "\n",
    "scaler = StandardScaler()\n",
    "scaler.fit(X)\n",
    "\n",
    "X = scaler.transform(X)\n",
    "#print(X)\n",
    "\n",
    "## Using StandardScaler to transform the X values between -1 and 1"
   ]
  },
  {
   "cell_type": "code",
   "execution_count": 29,
   "metadata": {},
   "outputs": [],
   "source": [
    "from sklearn.model_selection import train_test_split\n",
    "X_train, X_test, Y_train, Y_test = train_test_split(X,Y, test_size = 0.3, random_state = 25)\n",
    "\n",
    "## Converting X and Y data into X_train, X_test and Y_train, Y_test for model building"
   ]
  },
  {
   "cell_type": "markdown",
   "metadata": {},
   "source": [
    "### Logistic Regression - 1"
   ]
  },
  {
   "cell_type": "code",
   "execution_count": 30,
   "metadata": {},
   "outputs": [
    {
     "name": "stdout",
     "output_type": "stream",
     "text": [
      "[[-6.55226816e-05  6.26875014e-02 -9.41788433e-02  6.56767689e-02\n",
      "  -7.55854062e-03 -2.00756385e+00 -1.01675450e-01  1.06017615e+00\n",
      "   3.17408178e-02 -1.96645468e-01 -1.25200036e-03]]\n",
      "[-4.0520732]\n"
     ]
    }
   ],
   "source": [
    "#Building the model\n",
    "from sklearn.linear_model import LogisticRegression\n",
    "classifier=LogisticRegression() # creating the model object\n",
    "#Fitting the training data in the model\n",
    "classifier.fit(X_train,Y_train)\n",
    "Y_pred = classifier.predict(X_test)\n",
    "#print(list(zip(Y_test,Y_pred)))\n",
    "\n",
    "print(classifier.coef_)\n",
    "print(classifier.intercept_)"
   ]
  },
  {
   "cell_type": "code",
   "execution_count": 31,
   "metadata": {
    "scrolled": false
   },
   "outputs": [
    {
     "name": "stdout",
     "output_type": "stream",
     "text": [
      "[[100279      1]\n",
      " [ 14053      0]]\n",
      "Classification report: \n",
      "              precision    recall  f1-score   support\n",
      "\n",
      "           0       0.88      1.00      0.93    100280\n",
      "           1       0.00      0.00      0.00     14053\n",
      "\n",
      "    accuracy                           0.88    114333\n",
      "   macro avg       0.44      0.50      0.47    114333\n",
      "weighted avg       0.77      0.88      0.82    114333\n",
      "\n",
      "Accuracy of the model: 0.8770783588290345\n"
     ]
    }
   ],
   "source": [
    "#Evaluating the model\n",
    "\n",
    "from sklearn.metrics import confusion_matrix, accuracy_score, classification_report\n",
    "\n",
    "cfm= confusion_matrix (Y_test,Y_pred)\n",
    "print(cfm)\n",
    "\n",
    "print(\"Classification report: \")\n",
    "\n",
    "print(classification_report(Y_test,Y_pred))\n",
    "\n",
    "acc=accuracy_score(Y_test,Y_pred)\n",
    "print(\"Accuracy of the model:\",acc)"
   ]
  },
  {
   "cell_type": "markdown",
   "metadata": {},
   "source": [
    "#### From the Logistic Regression - 1 model:\n",
    "1. Accuracy: 87.70% \n",
    "2. Precision: How many items selected are relevant?\n",
    "    1. Class 0 = 88%\n",
    "    2. Class 1 = Nill\n",
    "3. Recall: How many relevant items were selected?\n",
    "    1. Class 0 = 100%\n",
    "    2. Class 1 = Nill\n",
    "4. F1 Score: Is a measure of a model's accuracy on a dataset. Higher F1 = perfect precision and recall\n",
    "    1. Class 0 = 93%\n",
    "    2. Class 1 = Nill\n",
    "5. CFMatrix: Tabular representation of Actual v/s Predicted values\n",
    "    1. TP = 1,00,279 || TN = 0\n",
    "    2. FP = 1 || FN = 14,053\n",
    "\n",
    "Conclusion: Good fit model as accuracy is >70% and F1 score for class 0 is 93%"
   ]
  },
  {
   "cell_type": "code",
   "execution_count": 32,
   "metadata": {},
   "outputs": [
    {
     "name": "stdout",
     "output_type": "stream",
     "text": [
      "0.49999501396090945\n",
      "[0.00000000e+00 9.97207818e-06 1.00000000e+00]\n",
      "[0. 0. 1.]\n"
     ]
    },
    {
     "data": {
      "image/png": "[encoded data removed]",
      "text/plain": [
       "<Figure size 1152x576 with 1 Axes>"
      ]
     },
     "metadata": {},
     "output_type": "display_data"
    }
   ],
   "source": [
    "from sklearn import metrics\n",
    "\n",
    "fpr, tpr,z = metrics.roc_curve(Y_test, Y_pred)\n",
    "auc = metrics.auc(fpr,tpr)\n",
    "print(auc)\n",
    "print(fpr)\n",
    "print(tpr)\n",
    "\n",
    "import matplotlib.pyplot as plt\n",
    "#%matplotlib inline\n",
    "plt.title('Receiver Operating Characteristic')\n",
    "plt.plot(fpr, tpr, 'b', label = auc)\n",
    "plt.legend(loc = 'lower right')\n",
    "plt.plot([0, 1], [0, 1],'r--')\n",
    "plt.xlim([0, 1])\n",
    "plt.ylim([0, 1])\n",
    "plt.xlabel('False Positive Rate')\n",
    "plt.ylabel('True Positive Rate')\n",
    "\n",
    "plt.show()"
   ]
  },
  {
   "cell_type": "markdown",
   "metadata": {},
   "source": [
    "The ROC Curve above indicates the AUC value = 49.99%"
   ]
  },
  {
   "cell_type": "markdown",
   "metadata": {},
   "source": [
    "## Naive Bayes - 1"
   ]
  },
  {
   "cell_type": "code",
   "execution_count": 33,
   "metadata": {},
   "outputs": [
    {
     "name": "stdout",
     "output_type": "stream",
     "text": [
      "              precision    recall  f1-score   support\n",
      "\n",
      "           0       0.99      0.59      0.74    100280\n",
      "           1       0.25      0.98      0.40     14053\n",
      "\n",
      "    accuracy                           0.64    114333\n",
      "   macro avg       0.62      0.78      0.57    114333\n",
      "weighted avg       0.90      0.64      0.70    114333\n",
      "\n",
      "[[59387 40893]\n",
      " [  319 13734]]\n",
      "accuracy is 0.639544138612649\n"
     ]
    }
   ],
   "source": [
    "# Naive Bayes\n",
    "from sklearn.naive_bayes import GaussianNB\n",
    "classifier = GaussianNB()\n",
    "classifier.fit(X_train, Y_train)\n",
    "\n",
    "Y_pred_NB= classifier.predict(X_test)\n",
    "\n",
    "# Summary of the predictions made by the classifier\n",
    "print(classification_report(Y_test, Y_pred_NB))\n",
    "print(confusion_matrix(Y_test, Y_pred_NB))\n",
    "# Accuracy score\n",
    "from sklearn.metrics import accuracy_score\n",
    "print('accuracy is',accuracy_score(Y_pred_NB,Y_test))"
   ]
  },
  {
   "cell_type": "markdown",
   "metadata": {},
   "source": [
    "#### From the Naive Bayes - 1 model:\n",
    "1. Accuracy: 63.95% [Poor Model]\n",
    "2. Precision: How many items selected are relevant?\n",
    "    1. Class 0 = 99%\n",
    "    2. Class 1 = 25%\n",
    "3. Recall: How many relevant items were selected?\n",
    "    1. Class 0 = 59%\n",
    "    2. Class 1 = 98%\n",
    "4. F1 Score: Is a measure of a model's accuracy on a dataset. Higher F1 = perfect precision and recall\n",
    "    1. Class 0 = 74%\n",
    "    2. Class 1 = 40%\n",
    "    [Not a good F1 Score, therefore not a good fit model]\n",
    "5. CFMatrix: Tabular representation of Actual v/s Predicted values\n",
    "    1. TP = 59,387 || TN = 13,734\n",
    "    2. FP = 40,893 || FN = 319\n",
    "\n",
    "Conclusion: Not a good fit model, needs tuning."
   ]
  },
  {
   "cell_type": "markdown",
   "metadata": {},
   "source": [
    "## Decision Tree - 1"
   ]
  },
  {
   "cell_type": "code",
   "execution_count": 34,
   "metadata": {},
   "outputs": [
    {
     "name": "stdout",
     "output_type": "stream",
     "text": [
      "              precision    recall  f1-score   support\n",
      "\n",
      "           0       0.90      0.89      0.90    100280\n",
      "           1       0.29      0.31      0.30     14053\n",
      "\n",
      "    accuracy                           0.82    114333\n",
      "   macro avg       0.60      0.60      0.60    114333\n",
      "weighted avg       0.83      0.82      0.82    114333\n",
      "\n",
      "[[89623 10657]\n",
      " [ 9741  4312]]\n",
      "accuracy is 0.8215913165927597\n"
     ]
    }
   ],
   "source": [
    "# Decision Tree's\n",
    "from sklearn.tree import DecisionTreeClassifier\n",
    "\n",
    "classifier = DecisionTreeClassifier()\n",
    "\n",
    "classifier.fit(X_train, Y_train)\n",
    "\n",
    "y_pred_DT = classifier.predict(X_test)\n",
    "\n",
    "# Summary of the predictions made by the classifier\n",
    "print(classification_report(Y_test, y_pred_DT))\n",
    "print(confusion_matrix(Y_test, y_pred_DT))\n",
    "# Accuracy score\n",
    "from sklearn.metrics import accuracy_score\n",
    "print('accuracy is',accuracy_score(y_pred_DT,Y_test))"
   ]
  },
  {
   "cell_type": "markdown",
   "metadata": {},
   "source": [
    "#### From the Decision Tree - 1 model:\n",
    "1. Accuracy: 82.12%\n",
    "2. Precision: How many items selected are relevant?\n",
    "    1. Class 0 = 90%\n",
    "    2. Class 1 = 29%\n",
    "3. Recall: How many relevant items were selected?\n",
    "    1. Class 0 = 89%\n",
    "    2. Class 1 = 31%\n",
    "4. F1 Score: Is a measure of a model's accuracy on a dataset. Higher F1 = perfect precision and recall\n",
    "    1. Class 0 = 90%\n",
    "    2. Class 1 = 30%\n",
    "5. CFMatrix: Tabular representation of Actual v/s Predicted values\n",
    "    1. TP = 89,609 || TN = 4,301\n",
    "    2. FP = 10,671 || FN = 9,752\n",
    "\n",
    "Conclusion: Good fit model, as Accuracy is >70% and F1 score for class 0 is 90%"
   ]
  },
  {
   "cell_type": "markdown",
   "metadata": {},
   "source": [
    "## Logistic Regression - 2 (Tuning using Cross Validation)"
   ]
  },
  {
   "cell_type": "code",
   "execution_count": 35,
   "metadata": {},
   "outputs": [
    {
     "data": {
      "image/png": "[encoded data removed]",
      "text/plain": [
       "<Figure size 1152x576 with 1 Axes>"
      ]
     },
     "metadata": {},
     "output_type": "display_data"
    }
   ],
   "source": [
    "# Using the elbow method to find the optimal number of clusters\n",
    "from sklearn.cluster import KMeans\n",
    "wsse = [] #within the clusters some of squared errors & inertia calculates those errors\n",
    "for i in range(1, 11): #11 is excluding\n",
    "    kmeans = KMeans(n_clusters = i, random_state = 10) #random_state is equivalent to set.seed, but number should be same so that models are matched\n",
    "    kmeans.fit(X)\n",
    "    wsse.append(kmeans.inertia_) # append helps to add a single element at a time\n",
    "plt.plot(range(1, 11), wsse)\n",
    "plt.title('The Elbow Method')\n",
    "plt.xlabel('Number of clusters')\n",
    "plt.ylabel('WSSE')\n",
    "plt.show()"
   ]
  },
  {
   "cell_type": "markdown",
   "metadata": {},
   "source": [
    "From the above chart(elbow method) we can select 3 as number of clusters for kfold tuning method"
   ]
  },
  {
   "cell_type": "code",
   "execution_count": 36,
   "metadata": {},
   "outputs": [
    {
     "name": "stdout",
     "output_type": "stream",
     "text": [
      "KFold(n_splits=3, random_state=None, shuffle=False)\n",
      "[0.87797719 0.87634523 0.87843689]\n",
      "0.8775864380950443\n"
     ]
    }
   ],
   "source": [
    "#Using cross validation\n",
    "\n",
    "classifier=(LogisticRegression())\n",
    "\n",
    "#performing kfold_cross_validation\n",
    "from sklearn.model_selection import KFold\n",
    "kfold_cv=KFold(n_splits=3)\n",
    "print(kfold_cv)\n",
    "\n",
    "from sklearn.model_selection import cross_val_score\n",
    "#running the model using scoring metric as accuracy\n",
    "kfold_cv_result=cross_val_score(estimator=classifier,X=X_train,\n",
    "y=Y_train, cv=kfold_cv)\n",
    "print(kfold_cv_result)\n",
    "#finding the mean\n",
    "print(kfold_cv_result.mean())\n",
    "\n",
    "#_______________________________________________________\n",
    "\n",
    "for train_value, test_value in kfold_cv.split(X_train):\n",
    "    classifier.fit(X_train[train_value], Y_train[train_value]).predict(X_train[test_value])\n",
    "\n",
    "\n",
    "Y_pred_1=classifier.predict(X_test)\n",
    "#print(list(zip(Y_test,Y_pred)))"
   ]
  },
  {
   "cell_type": "markdown",
   "metadata": {},
   "source": [
    "Accuracy of the model using Logistic Regression - 2 is improved only by 0.05%"
   ]
  },
  {
   "cell_type": "markdown",
   "metadata": {},
   "source": [
    "## Threshold Adjustment - Tuning method"
   ]
  },
  {
   "cell_type": "code",
   "execution_count": 37,
   "metadata": {
    "scrolled": true
   },
   "outputs": [
    {
     "name": "stdout",
     "output_type": "stream",
     "text": [
      "Errors at threshold  0.0 : 100280  , type 2 error : 0  , type 1 error: 100280\n",
      "Errors at threshold  0.01 : 48107  , type 2 error : 43  , type 1 error: 48064\n",
      "Errors at threshold  0.02 : 48095  , type 2 error : 43  , type 1 error: 48052\n",
      "Errors at threshold  0.03 : 46462  , type 2 error : 97  , type 1 error: 46365\n",
      "Errors at threshold  0.04 : 43271  , type 2 error : 242  , type 1 error: 43029\n",
      "Errors at threshold  0.05 : 42092  , type 2 error : 280  , type 1 error: 41812\n",
      "Errors at threshold  0.06 : 41350  , type 2 error : 307  , type 1 error: 41043\n",
      "Errors at threshold  0.07 : 41312  , type 2 error : 309  , type 1 error: 41003\n",
      "Errors at threshold  0.08 : 41288  , type 2 error : 311  , type 1 error: 40977\n",
      "Errors at threshold  0.09 : 41268  , type 2 error : 313  , type 1 error: 40955\n",
      "Errors at threshold  0.1 : 41240  , type 2 error : 313  , type 1 error: 40927\n",
      "Errors at threshold  0.11 : 41218  , type 2 error : 317  , type 1 error: 40901\n",
      "Errors at threshold  0.12 : 41212  , type 2 error : 319  , type 1 error: 40893\n",
      "Errors at threshold  0.13 : 41204  , type 2 error : 319  , type 1 error: 40885\n",
      "Errors at threshold  0.14 : 41179  , type 2 error : 327  , type 1 error: 40852\n",
      "Errors at threshold  0.15 : 41091  , type 2 error : 342  , type 1 error: 40749\n",
      "Errors at threshold  0.16 : 40901  , type 2 error : 375  , type 1 error: 40526\n",
      "Errors at threshold  0.17 : 40680  , type 2 error : 446  , type 1 error: 40234\n",
      "Errors at threshold  0.18 : 40337  , type 2 error : 547  , type 1 error: 39790\n",
      "Errors at threshold  0.19 : 39835  , type 2 error : 733  , type 1 error: 39102\n",
      "Errors at threshold  0.2 : 38295  , type 2 error : 1147  , type 1 error: 37148\n",
      "Errors at threshold  0.21 : 34406  , type 2 error : 1984  , type 1 error: 32422\n",
      "Errors at threshold  0.22 : 31779  , type 2 error : 2918  , type 1 error: 28861\n",
      "Errors at threshold  0.23 : 28057  , type 2 error : 4250  , type 1 error: 23807\n",
      "Errors at threshold  0.24 : 25203  , type 2 error : 5849  , type 1 error: 19354\n",
      "Errors at threshold  0.25 : 23383  , type 2 error : 7148  , type 1 error: 16235\n",
      "Errors at threshold  0.26 : 21868  , type 2 error : 8415  , type 1 error: 13453\n",
      "Errors at threshold  0.27 : 20932  , type 2 error : 9241  , type 1 error: 11691\n",
      "Errors at threshold  0.28 : 20194  , type 2 error : 9611  , type 1 error: 10583\n",
      "Errors at threshold  0.29 : 19204  , type 2 error : 10037  , type 1 error: 9167\n",
      "Errors at threshold  0.3 : 18042  , type 2 error : 10726  , type 1 error: 7316\n",
      "Errors at threshold  0.31 : 16861  , type 2 error : 11595  , type 1 error: 5266\n",
      "Errors at threshold  0.32 : 15735  , type 2 error : 12422  , type 1 error: 3313\n",
      "Errors at threshold  0.33 : 14851  , type 2 error : 13314  , type 1 error: 1537\n",
      "Errors at threshold  0.34 : 14324  , type 2 error : 13834  , type 1 error: 490\n",
      "Errors at threshold  0.35000000000000003 : 14133  , type 2 error : 13995  , type 1 error: 138\n",
      "Errors at threshold  0.36 : 14071  , type 2 error : 14036  , type 1 error: 35\n",
      "Errors at threshold  0.37 : 14055  , type 2 error : 14046  , type 1 error: 9\n",
      "Errors at threshold  0.38 : 14055  , type 2 error : 14049  , type 1 error: 6\n",
      "Errors at threshold  0.39 : 14054  , type 2 error : 14049  , type 1 error: 5\n",
      "Errors at threshold  0.4 : 14052  , type 2 error : 14049  , type 1 error: 3\n",
      "Errors at threshold  0.41000000000000003 : 14052  , type 2 error : 14049  , type 1 error: 3\n",
      "Errors at threshold  0.42 : 14053  , type 2 error : 14051  , type 1 error: 2\n",
      "Errors at threshold  0.43 : 14053  , type 2 error : 14051  , type 1 error: 2\n",
      "Errors at threshold  0.44 : 14053  , type 2 error : 14051  , type 1 error: 2\n",
      "Errors at threshold  0.45 : 14054  , type 2 error : 14052  , type 1 error: 2\n",
      "Errors at threshold  0.46 : 14054  , type 2 error : 14052  , type 1 error: 2\n",
      "Errors at threshold  0.47000000000000003 : 14054  , type 2 error : 14053  , type 1 error: 1\n",
      "Errors at threshold  0.48 : 14054  , type 2 error : 14053  , type 1 error: 1\n",
      "Errors at threshold  0.49 : 14054  , type 2 error : 14053  , type 1 error: 1\n",
      "Errors at threshold  0.5 : 14054  , type 2 error : 14053  , type 1 error: 1\n",
      "Errors at threshold  0.51 : 14054  , type 2 error : 14053  , type 1 error: 1\n",
      "Errors at threshold  0.52 : 14054  , type 2 error : 14053  , type 1 error: 1\n",
      "Errors at threshold  0.53 : 14054  , type 2 error : 14053  , type 1 error: 1\n",
      "Errors at threshold  0.54 : 14054  , type 2 error : 14053  , type 1 error: 1\n",
      "Errors at threshold  0.55 : 14054  , type 2 error : 14053  , type 1 error: 1\n",
      "Errors at threshold  0.56 : 14053  , type 2 error : 14053  , type 1 error: 0\n",
      "Errors at threshold  0.5700000000000001 : 14053  , type 2 error : 14053  , type 1 error: 0\n",
      "Errors at threshold  0.58 : 14053  , type 2 error : 14053  , type 1 error: 0\n",
      "Errors at threshold  0.59 : 14053  , type 2 error : 14053  , type 1 error: 0\n",
      "Errors at threshold  0.6 : 14053  , type 2 error : 14053  , type 1 error: 0\n",
      "Errors at threshold  0.61 : 14053  , type 2 error : 14053  , type 1 error: 0\n",
      "Errors at threshold  0.62 : 14053  , type 2 error : 14053  , type 1 error: 0\n",
      "Errors at threshold  0.63 : 14053  , type 2 error : 14053  , type 1 error: 0\n",
      "Errors at threshold  0.64 : 14053  , type 2 error : 14053  , type 1 error: 0\n",
      "Errors at threshold  0.65 : 14053  , type 2 error : 14053  , type 1 error: 0\n",
      "Errors at threshold  0.66 : 14053  , type 2 error : 14053  , type 1 error: 0\n",
      "Errors at threshold  0.67 : 14053  , type 2 error : 14053  , type 1 error: 0\n",
      "Errors at threshold  0.68 : 14053  , type 2 error : 14053  , type 1 error: 0\n",
      "Errors at threshold  0.6900000000000001 : 14053  , type 2 error : 14053  , type 1 error: 0\n",
      "Errors at threshold  0.7000000000000001 : 14053  , type 2 error : 14053  , type 1 error: 0\n",
      "Errors at threshold  0.71 : 14053  , type 2 error : 14053  , type 1 error: 0\n",
      "Errors at threshold  0.72 : 14053  , type 2 error : 14053  , type 1 error: 0\n",
      "Errors at threshold  0.73 : 14053  , type 2 error : 14053  , type 1 error: 0\n",
      "Errors at threshold  0.74 : 14053  , type 2 error : 14053  , type 1 error: 0\n",
      "Errors at threshold  0.75 : 14053  , type 2 error : 14053  , type 1 error: 0\n",
      "Errors at threshold  0.76 : 14053  , type 2 error : 14053  , type 1 error: 0\n",
      "Errors at threshold  0.77 : 14053  , type 2 error : 14053  , type 1 error: 0\n",
      "Errors at threshold  0.78 : 14053  , type 2 error : 14053  , type 1 error: 0\n",
      "Errors at threshold  0.79 : 14053  , type 2 error : 14053  , type 1 error: 0\n",
      "Errors at threshold  0.8 : 14053  , type 2 error : 14053  , type 1 error: 0\n",
      "Errors at threshold  0.81 : 14053  , type 2 error : 14053  , type 1 error: 0\n",
      "Errors at threshold  0.8200000000000001 : 14053  , type 2 error : 14053  , type 1 error: 0\n",
      "Errors at threshold  0.8300000000000001 : 14053  , type 2 error : 14053  , type 1 error: 0\n",
      "Errors at threshold  0.84 : 14053  , type 2 error : 14053  , type 1 error: 0\n",
      "Errors at threshold  0.85 : 14053  , type 2 error : 14053  , type 1 error: 0\n",
      "Errors at threshold  0.86 : 14053  , type 2 error : 14053  , type 1 error: 0\n",
      "Errors at threshold  0.87 : 14053  , type 2 error : 14053  , type 1 error: 0\n",
      "Errors at threshold  0.88 : 14053  , type 2 error : 14053  , type 1 error: 0\n",
      "Errors at threshold  0.89 : 14053  , type 2 error : 14053  , type 1 error: 0\n",
      "Errors at threshold  0.9 : 14053  , type 2 error : 14053  , type 1 error: 0\n",
      "Errors at threshold  0.91 : 14053  , type 2 error : 14053  , type 1 error: 0\n",
      "Errors at threshold  0.92 : 14053  , type 2 error : 14053  , type 1 error: 0\n",
      "Errors at threshold  0.93 : 14053  , type 2 error : 14053  , type 1 error: 0\n",
      "Errors at threshold  0.9400000000000001 : 14053  , type 2 error : 14053  , type 1 error: 0\n",
      "Errors at threshold  0.9500000000000001 : 14053  , type 2 error : 14053  , type 1 error: 0\n",
      "Errors at threshold  0.96 : 14053  , type 2 error : 14053  , type 1 error: 0\n",
      "Errors at threshold  0.97 : 14053  , type 2 error : 14053  , type 1 error: 0\n",
      "Errors at threshold  0.98 : 14053  , type 2 error : 14053  , type 1 error: 0\n",
      "Errors at threshold  0.99 : 14053  , type 2 error : 14053  , type 1 error: 0\n"
     ]
    }
   ],
   "source": [
    "#Store the predicted probbilities\n",
    "Y_pred_prob = classifier.predict_proba(X_test)\n",
    "#print(Y_pred_prob)\n",
    "for a in np.arange(0,1,0.01):\n",
    "    predict_mine = np.where(Y_pred_prob[:,1] > a, 1, 0)\n",
    "    cfm=confusion_matrix(Y_test, predict_mine)\n",
    "    total_err=cfm[0,1]+cfm[1,0]\n",
    "    print(\"Errors at threshold \", a, \":\",total_err, \" , type 2 error :\",\n",
    "       cfm[1,0],\" , type 1 error:\", cfm[0,1])"
   ]
  },
  {
   "cell_type": "code",
   "execution_count": 38,
   "metadata": {},
   "outputs": [],
   "source": [
    "Y_pred_class = []\n",
    "for value in Y_pred_prob[:,1]:\n",
    "    if value > 0.56:\n",
    "        Y_pred_class.append(1)\n",
    "    else:\n",
    "        Y_pred_class.append(0)\n",
    "#print(Y_pred_class)\n",
    "\n",
    "## Creating a new Y_pred_class at Threshold 0.56 where Type1 error's and Type2 error's are minimum"
   ]
  },
  {
   "cell_type": "code",
   "execution_count": 39,
   "metadata": {},
   "outputs": [
    {
     "name": "stdout",
     "output_type": "stream",
     "text": [
      "[[100280      0]\n",
      " [ 14053      0]]\n",
      "Classification report: \n",
      "              precision    recall  f1-score   support\n",
      "\n",
      "           0       0.88      1.00      0.93    100280\n",
      "           1       0.00      0.00      0.00     14053\n",
      "\n",
      "    accuracy                           0.88    114333\n",
      "   macro avg       0.44      0.50      0.47    114333\n",
      "weighted avg       0.77      0.88      0.82    114333\n",
      "\n",
      "Accuracy of the model: 0.8770871052102193\n"
     ]
    }
   ],
   "source": [
    "#Evaluating the model\n",
    "\n",
    "from sklearn.metrics import confusion_matrix, accuracy_score, classification_report\n",
    "\n",
    "cfm= confusion_matrix (Y_test,Y_pred_class)\n",
    "print(cfm)\n",
    "\n",
    "print(\"Classification report: \")\n",
    "\n",
    "print(classification_report(Y_test,Y_pred_class))\n",
    "\n",
    "acc=accuracy_score(Y_test,Y_pred_class)\n",
    "print(\"Accuracy of the model:\",acc)"
   ]
  },
  {
   "cell_type": "markdown",
   "metadata": {},
   "source": [
    "Model performance after tuning it using Threshold adjustment remains same as Logistic Regression - 1"
   ]
  },
  {
   "cell_type": "markdown",
   "metadata": {},
   "source": [
    "# PROJECT CONCLUSION\n",
    "## Data information:\n",
    "1. Total number of variables: 12\n",
    "2. Total number of rows: 3,81,109\n",
    "3. Train Test split: test_size = 0.3, random_state = 25\n",
    "\n",
    "## Model/ Algorithm information:\n",
    "1. Models and their performance (Ranking):\n",
    "    1. Logistic Regression - 2 : 87.75% accuracy\n",
    "    2. Logistic Regression - 1 : 87.70% accuracy\n",
    "    3. Threshold adjustment model : 87.70% accuracy\n",
    "    4. Decision Tree : 82.12% accuracy\n",
    "    5. Naive Bayes : 63.95% accuracy\n",
    "    \n",
    "## Report to company:\n",
    "1. Target audience age group: 21-27 years\n",
    "2. Many customers are not interested in vehicle insurance\n",
    "3. Almost more than 50% customers did not have a vehicle insurance in the past\n",
    "4. Most of the vehicles that get insurance are of age 1-2 years\n",
    "5. Males opt for vehicle insurance more than Females\n",
    "6. Only a very few customers did not have a driving license with them\n",
    "7. Nearly 50% of the vehicles have been damaged in the past\n",
    "8. Majority of the customers buy vehicle insurance of premium between Rs. 3,000/- to 10,000/-\n",
    "\n",
    "## Suggestions:\n",
    "1. The target audience being between the age of 21-27 years (either students or newly employed), live on a limited budget, therefore the premium payable for such age group must be less either by introducing lower cost strategy or providing discount to such group\n",
    "2. Most of the customers get insurance for their vehicle which is between 1-2 year old, and then dropping the idea of purchasing an insurance, to curb that problem: providing insurance policies for longer duration with limited/ less claim value can help the company attract new or their existing customers and push them to buying vehicle insurance\n",
    "3. Although most of the vehicle insurance is purchased by Males, a majority of Females also buy vehicle insurance and that group of demographic must not be ignored, to increase value and enjoy customer retention and new customer acquisition - introducing special discounts/ previliges for females will improve business and company goodwill\n",
    "4. Providing policy to non-driving license holders must be removed/ abolished completely as it may cause legal problems for the company in future\n",
    "5. As majority of the revenue is generated by policies that cost between 3k to 10k, which indicates that the value of claim for such policies will be less, and majority buyers for such policies would be of the demographic age group of 20-30 years, indicating possible low income group (as compared to other age group's), efforts to retain such age group must continue in order for business revenue to churn regularly, however newer policies/ strategies must be introduced to attract the people of higher age group (between 30-38, where use of vehicle insurance is lesser), (between 38-50, where some more target customers can be identified)\n",
    "6. Almost 50% of the customers are seen to have damaged their vehicles in past, this can* be bad business if the damages are not assessed properly, to curb this risk, higher premium should be charged in return of a relatively lower claim value\n",
    "\n",
    "(* not always, therefore the company must revaluate such request before processing the insurance request)"
   ]
  },
  {
   "cell_type": "code",
   "execution_count": null,
   "metadata": {},
   "outputs": [],
   "source": []
  }
 ],
 "metadata": {
  "kernelspec": {
   "display_name": "Python 3",
   "language": "python",
   "name": "python3"
  },
  "language_info": {
   "codemirror_mode": {
    "name": "ipython",
    "version": 3
   },
   "file_extension": ".py",
   "mimetype": "text/x-python",
   "name": "python",
   "nbconvert_exporter": "python",
   "pygments_lexer": "ipython3",
   "version": "3.8.3"
  }
 },
 "nbformat": 4,
 "nbformat_minor": 4
}
